{
 "cells": [
  {
   "cell_type": "markdown",
   "id": "afeaba99",
   "metadata": {},
   "source": [
    "# STRING ANALYSIS TOOL"
   ]
  },
  {
   "cell_type": "code",
   "execution_count": 3,
   "id": "389469b8",
   "metadata": {},
   "outputs": [
    {
     "name": "stdout",
     "output_type": "stream",
     "text": [
      "Enter any statement:Nigeria gained independence in 1960\n",
      "The length of the statement is:35\n",
      "The number of vowels:13\n",
      "The number of consonant:14\n",
      "The number of digits: 4\n",
      "The reverse of the statement: 0691 ni ecnednepedni deniag airegin\n"
     ]
    }
   ],
   "source": [
    "statement = input(\"Enter any statement:\").casefold()\n",
    "length_of_string = len(statement)\n",
    "vowel = statement.count(\"a\")+statement.count(\"e\")+statement.count(\"i\")+statement.count(\"o\")+statement.count(\"u\")\n",
    "consonant = statement.count(\"b\")+statement.count(\"c\")+statement.count(\"d\")+statement.count(\"f\")+statement.count(\"g\")+statement.count(\"h\")+statement.count(\"j\")+statement.count(\"k\")+statement.count(\"l\")+statement.count(\"m\")+statement.count(\"n\")+statement.count(\"p\")+statement.count(\"q\")+statement.count(\"r\")+statement.count(\"s\")+statement.count(\"t\")+statement.count(\"v\")+statement.count(\"w\")+statement.count(\"x\")+statement.count(\"y\")+statement.count(\"z\")\n",
    "digit = statement.count(\"0\")+statement.count(\"1\")+statement.count(\"2\")+statement.count(\"3\")+statement.count(\"4\")+statement.count(\"5\")+statement.count(\"6\")+statement.count(\"7\")+statement.count(\"8\")+statement.count(\"9\")\n",
    "reverse = statement[::-1]\n",
    "print(f\"The length of the statement is:{length_of_string}\\nThe number of vowels:{vowel}\\nThe number of consonant:{consonant}\\nThe number of digits: {digit}\\nThe reverse of the statement: {reverse}\")"
   ]
  },
  {
   "cell_type": "code",
   "execution_count": null,
   "id": "6b11a541",
   "metadata": {},
   "outputs": [],
   "source": []
  }
 ],
 "metadata": {
  "kernelspec": {
   "display_name": "Python 3 (ipykernel)",
   "language": "python",
   "name": "python3"
  },
  "language_info": {
   "codemirror_mode": {
    "name": "ipython",
    "version": 3
   },
   "file_extension": ".py",
   "mimetype": "text/x-python",
   "name": "python",
   "nbconvert_exporter": "python",
   "pygments_lexer": "ipython3",
   "version": "3.11.5"
  }
 },
 "nbformat": 4,
 "nbformat_minor": 5
}
